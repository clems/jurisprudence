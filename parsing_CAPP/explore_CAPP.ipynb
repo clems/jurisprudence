{
 "cells": [
  {
   "cell_type": "code",
   "execution_count": 16,
   "metadata": {
    "collapsed": true
   },
   "outputs": [],
   "source": [
    "import os\n",
    "import pickle\n",
    "\n",
    "from collections import defaultdict, Counter"
   ]
  },
  {
   "cell_type": "markdown",
   "metadata": {},
   "source": [
    "# Load data"
   ]
  },
  {
   "cell_type": "code",
   "execution_count": 3,
   "metadata": {},
   "outputs": [],
   "source": [
    "with open('../data/CAPP_obj.pickle', 'rb') as f:\n",
    "    python_trees = pickle.load(f)"
   ]
  },
  {
   "cell_type": "code",
   "execution_count": 4,
   "metadata": {},
   "outputs": [
    {
     "data": {
      "text/plain": [
       "63340"
      ]
     },
     "execution_count": 4,
     "metadata": {},
     "output_type": "execute_result"
    }
   ],
   "source": [
    "len(python_trees)"
   ]
  },
  {
   "cell_type": "markdown",
   "metadata": {},
   "source": [
    "# Merge all docs"
   ]
  },
  {
   "cell_type": "code",
   "execution_count": 8,
   "metadata": {},
   "outputs": [],
   "source": [
    "values_by_tag = defaultdict(list)\n",
    "for ident, doc in python_trees.items():\n",
    "    for k, v in doc.items():\n",
    "        if k != 'BLOC_TEXTUEL':\n",
    "            values_by_tag[k].append(v)"
   ]
  },
  {
   "cell_type": "code",
   "execution_count": 18,
   "metadata": {},
   "outputs": [],
   "source": [
    "def print_stats(tag):\n",
    "    counter = Counter(values_by_tag[tag])\n",
    "    print(counter.most_common(100))"
   ]
  },
  {
   "cell_type": "code",
   "execution_count": 12,
   "metadata": {},
   "outputs": [],
   "source": [
    "key_set = set(values_by_tag.keys())"
   ]
  },
  {
   "cell_type": "code",
   "execution_count": 31,
   "metadata": {},
   "outputs": [
    {
     "name": "stdout",
     "output_type": "stream",
     "text": [
      "[(None, 63340)]\n"
     ]
    }
   ],
   "source": [
    "print_stats('DEFENDEUR')"
   ]
  },
  {
   "cell_type": "code",
   "execution_count": 40,
   "metadata": {},
   "outputs": [
    {
     "data": {
      "text/plain": [
       "{'CITATION_JP',\n",
       " 'DATE_DEC',\n",
       " 'DATE_DEC_ATT',\n",
       " 'FORMATION',\n",
       " 'FORM_DEC_ATT',\n",
       " 'ID',\n",
       " 'JURIDICTION',\n",
       " 'LIENS',\n",
       " 'NATURE',\n",
       " 'NUMERO',\n",
       " 'NUMEROS_AFFAIRES',\n",
       " 'ORIGINE',\n",
       " 'PRESIDENT',\n",
       " 'PUBLI_BULL_publie',\n",
       " 'PUBLI_BULL_text',\n",
       " 'RAPPORTEUR',\n",
       " 'SIEGE_APPEL',\n",
       " 'SOLUTION',\n",
       " 'SOMMAIRE',\n",
       " 'TITRE',\n",
       " 'URL'}"
      ]
     },
     "execution_count": 40,
     "metadata": {},
     "output_type": "execute_result"
    }
   ],
   "source": [
    "not_interesting = {'ANCIEN_ID', 'AVOCATS', 'AVOCAT_GL', 'DEFENDEUR', 'DEMANDEUR', 'ECLI',\n",
    "                   'JURI_PREM', 'LIEU_PREM', 'ORIGINE', 'PUBLI_BULL_publie', 'RAPPORTEUR'}\n",
    "interesting_keys = key_set - not_interesting\n",
    "interesting_keys"
   ]
  },
  {
   "cell_type": "code",
   "execution_count": 47,
   "metadata": {},
   "outputs": [
    {
     "name": "stdout",
     "output_type": "stream",
     "text": [
      "[(None, 63340)]\n"
     ]
    }
   ],
   "source": [
    "print_stats('RAPPORTEUR')"
   ]
  },
  {
   "cell_type": "code",
   "execution_count": null,
   "metadata": {
    "collapsed": true
   },
   "outputs": [],
   "source": []
  }
 ],
 "metadata": {
  "kernelspec": {
   "display_name": "Python 3",
   "language": "python",
   "name": "python3"
  },
  "language_info": {
   "codemirror_mode": {
    "name": "ipython",
    "version": 3
   },
   "file_extension": ".py",
   "mimetype": "text/x-python",
   "name": "python",
   "nbconvert_exporter": "python",
   "pygments_lexer": "ipython3",
   "version": "3.5.2"
  }
 },
 "nbformat": 4,
 "nbformat_minor": 2
}
