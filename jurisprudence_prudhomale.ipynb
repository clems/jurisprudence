{
 "cells": [
  {
   "cell_type": "markdown",
   "metadata": {},
   "source": [
    "# Analyse de la jurisprudence prud’homale"
   ]
  },
  {
   "cell_type": "markdown",
   "metadata": {},
   "source": [
    "## Objectif du projet"
   ]
  },
  {
   "cell_type": "markdown",
   "metadata": {},
   "source": [
    "### Enjeux"
   ]
  },
  {
   "cell_type": "markdown",
   "metadata": {},
   "source": [
    "Chaque année, les 210 Cours prud’homales en France rendent plus de 80 000 décisions en premier ressort. Environ 60 % de ces décisions font l’objet d’un appel auprès de l’une des 37 Cours d’Appel. Parmi ces appels, 70 % font l’objet d’une décision statuant sur la demande. Lorsque la Cour statue sur la demande :\n",
    "-\telle confirme totalement la décision de première instance dans 30% des cas, \n",
    "-\tl’infirme partiellement, la réforme ou modifie de certaines dispositions dans 48 % des cas\n",
    "-\tl’infirme dans toutes ses dispositions à l'égard de toutes les parties dans 21 % des cas.\n",
    "\n",
    "Étant donné les coûts de collecte de l’information, l’analyse de la jurisprudence repose souvent sur de petits échantillons, faisant peser des risques de représentativité, de biais de sélection, si bien que les résultats sont difficilement généralisables.\n",
    "\n",
    "Or, aujourd’hui les progrès en data science (machine learning, NPL), permette peut-être de collecter les données à moindre coût. L’enjeu est donc de tester la faisabilité de la constitution automatique d’une base de données de la jurisprudence. \n"
   ]
  },
  {
   "cell_type": "markdown",
   "metadata": {},
   "source": [
    "### Quelle utilisation de la base de données anticipe-t-on ?"
   ]
  },
  {
   "cell_type": "markdown",
   "metadata": {},
   "source": [
    "Il n’est pas possible de recenser a priori toutes les utilisations qui pourraient être faite de la base de données car cela dépendra à la fois des variables précises qui pourront être regroupées, et de l’imagination des chercheurs qui l’exploiteront. \n",
    "Toutefois, plusieurs questions génériques se dégagent :\n",
    "-\tStatistiques descriptives sur les décisions :\n",
    "    Taux d’appel en fonction des motifs des recours ;\n",
    "    Durée moyenne des décisions ;\n",
    "    Distribution des montants d’indemnité ;\n",
    "-\tAnalyse multivariée des décisions :\n",
    "    Influence des caractéristiques de l’entreprise, du salarié, du tribunal compétent. \n",
    "\n",
    "A compléter. \n"
   ]
  },
  {
   "cell_type": "code",
   "execution_count": null,
   "metadata": {
    "collapsed": true
   },
   "outputs": [],
   "source": []
  },
  {
   "cell_type": "code",
   "execution_count": null,
   "metadata": {
    "collapsed": true
   },
   "outputs": [],
   "source": []
  },
  {
   "cell_type": "code",
   "execution_count": null,
   "metadata": {
    "collapsed": true
   },
   "outputs": [],
   "source": []
  },
  {
   "cell_type": "code",
   "execution_count": null,
   "metadata": {
    "collapsed": true
   },
   "outputs": [],
   "source": []
  },
  {
   "cell_type": "code",
   "execution_count": null,
   "metadata": {
    "collapsed": true
   },
   "outputs": [],
   "source": []
  },
  {
   "cell_type": "code",
   "execution_count": null,
   "metadata": {
    "collapsed": true
   },
   "outputs": [],
   "source": []
  },
  {
   "cell_type": "code",
   "execution_count": null,
   "metadata": {
    "collapsed": true
   },
   "outputs": [],
   "source": []
  },
  {
   "cell_type": "code",
   "execution_count": null,
   "metadata": {
    "collapsed": true
   },
   "outputs": [],
   "source": []
  },
  {
   "cell_type": "raw",
   "metadata": {},
   "source": []
  },
  {
   "cell_type": "code",
   "execution_count": null,
   "metadata": {
    "collapsed": true
   },
   "outputs": [],
   "source": []
  }
 ],
 "metadata": {
  "kernelspec": {
   "display_name": "Python 3",
   "language": "python",
   "name": "python3"
  },
  "language_info": {
   "codemirror_mode": {
    "name": "ipython",
    "version": 3
   },
   "file_extension": ".py",
   "mimetype": "text/x-python",
   "name": "python",
   "nbconvert_exporter": "python",
   "pygments_lexer": "ipython3",
   "version": "3.5.3"
  }
 },
 "nbformat": 4,
 "nbformat_minor": 2
}
